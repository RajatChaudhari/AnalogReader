{
 "cells": [
  {
   "cell_type": "code",
   "execution_count": 2,
   "metadata": {},
   "outputs": [],
   "source": [
    "import cv2 as cv\n",
    "import os\n",
    "#os.listdir()"
   ]
  },
  {
   "cell_type": "code",
   "execution_count": 11,
   "metadata": {},
   "outputs": [],
   "source": [
    "cap = cv.VideoCapture(\"video.mp4\")\n",
    "\n",
    "if not cap.isOpened(): \n",
    "    print (\"could not open :\",fn)\n",
    "\n",
    "length = int(cap.get(cv.CAP_PROP_FRAME_COUNT))\n",
    "width  = int(cap.get(cv.CAP_PROP_FRAME_WIDTH))\n",
    "height = int(cap.get(cv.CAP_PROP_FRAME_HEIGHT))\n",
    "fps    = cap.get(cv.CAP_PROP_FPS)"
   ]
  },
  {
   "cell_type": "code",
   "execution_count": 13,
   "metadata": {},
   "outputs": [
    {
     "name": "stdout",
     "output_type": "stream",
     "text": [
      "2258 640 480 29.97002997002997\n"
     ]
    }
   ],
   "source": [
    "print(length,width,height,fps)"
   ]
  },
  {
   "cell_type": "code",
   "execution_count": 3,
   "metadata": {},
   "outputs": [],
   "source": [
    "vidObj = cv.VideoCapture(\"../Gauge/Video1.wmv\") \n",
    "# Used as counter variable \n",
    "count = 0\n",
    "# checks whether frames were extracted \n",
    "success = 1\n",
    "while success: \n",
    "    # vidObj object calls read \n",
    "    # function extract frames \n",
    "    success, image = vidObj.read() \n",
    "    # Saves the frames with frame-count \n",
    "    cv.imwrite(\"../Gauge/frames/Video1/frame%d.jpg\" % count, image) \n",
    "    count += 1\n",
    "\n",
    "vidObj.release() \n",
    "cv.destroyAllWindows()"
   ]
  },
  {
   "cell_type": "code",
   "execution_count": null,
   "metadata": {},
   "outputs": [],
   "source": [
    "vidObj = cv2.VideoCapture(\"video.mp4\") \n",
    "\n",
    "while True:\n",
    "    ret,frame = vidObj.read()\n",
    "\n",
    "    if ret: \n",
    "        # if video is still left continue creating images \n",
    "        name = './data/frame' + str(currentframe) + '.jpg'\n",
    "        print ('Creating...' + name) \n",
    "\n",
    "        # writing the extracted images \n",
    "        cv2.imwrite(../Gauge/frame/name, frame) \n",
    "\n",
    "        # increasing counter so that it will \n",
    "        # show how many frames are created \n",
    "        currentframe += 1\n",
    "    else: \n",
    "        break\n",
    "\n",
    "#Release all space and windows once done \n",
    "cam.release() \n",
    "cv2.destroyAllWindows() "
   ]
  },
  {
   "cell_type": "code",
   "execution_count": null,
   "metadata": {},
   "outputs": [],
   "source": []
  },
  {
   "cell_type": "code",
   "execution_count": null,
   "metadata": {},
   "outputs": [],
   "source": []
  },
  {
   "cell_type": "code",
   "execution_count": null,
   "metadata": {},
   "outputs": [],
   "source": []
  },
  {
   "cell_type": "code",
   "execution_count": null,
   "metadata": {},
   "outputs": [],
   "source": []
  }
 ],
 "metadata": {
  "kernelspec": {
   "display_name": "Python 3",
   "language": "python",
   "name": "python3"
  },
  "language_info": {
   "codemirror_mode": {
    "name": "ipython",
    "version": 3
   },
   "file_extension": ".py",
   "mimetype": "text/x-python",
   "name": "python",
   "nbconvert_exporter": "python",
   "pygments_lexer": "ipython3",
   "version": "3.7.1"
  }
 },
 "nbformat": 4,
 "nbformat_minor": 2
}
